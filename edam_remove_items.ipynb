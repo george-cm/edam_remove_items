{
 "cells": [
  {
   "cell_type": "code",
   "execution_count": 1,
   "id": "a438b08b-7a74-496b-8544-0114f30ce6df",
   "metadata": {},
   "outputs": [],
   "source": [
    "import csv\n",
    "import pandas as pd\n",
    "from pathlib import Path"
   ]
  },
  {
   "cell_type": "code",
   "execution_count": 2,
   "id": "5b6ed3c4-aea6-47b4-bc12-8486d3bdf85c",
   "metadata": {},
   "outputs": [],
   "source": [
    "edam_data_file = Path('2/SpareParts_21.03.2024.csv')"
   ]
  },
  {
   "cell_type": "code",
   "execution_count": 13,
   "id": "cfbc1054-4b9a-49d1-a7d4-34fcb0600e74",
   "metadata": {},
   "outputs": [],
   "source": [
    "output_file = Path('2/spare_parts_with_removed_skus.csv')"
   ]
  },
  {
   "cell_type": "code",
   "execution_count": 14,
   "id": "6bb8b262-9f0e-4259-a5e3-953ebe856310",
   "metadata": {},
   "outputs": [],
   "source": [
    "cols_to_update = {\n",
    "    \"edam:item-to-pim{{String: multi }}\",\n",
    "    \"edam:item-to-pim1{{String: multi }}\",\n",
    "    \"edam:item-to-pim2{{String: multi }}\",\n",
    "    \"edam:item-to-pim3{{String: multi }}\",\n",
    "}"
   ]
  },
  {
   "cell_type": "code",
   "execution_count": 15,
   "id": "3597c853-84ec-4395-ae90-37b93b8eaf76",
   "metadata": {},
   "outputs": [],
   "source": [
    "skus_to_remove_df = pd.read_excel('2/SKUs needs to remove.xlsx', sheet_name='Sheet1')"
   ]
  },
  {
   "cell_type": "code",
   "execution_count": 16,
   "id": "07f33cf4-c5cf-48d4-b522-847ae9a63aa6",
   "metadata": {},
   "outputs": [],
   "source": [
    "skus_to_remove = set([x.strip() for x in skus_to_remove_df['Item no.'].to_list()])"
   ]
  },
  {
   "cell_type": "code",
   "execution_count": 17,
   "id": "dd7a46a7-8e1b-4b3d-a9a8-3bb72df8def3",
   "metadata": {},
   "outputs": [
    {
     "name": "stdout",
     "output_type": "stream",
     "text": [
      "1836\n"
     ]
    }
   ],
   "source": [
    "print(len(skus_to_remove))"
   ]
  },
  {
   "cell_type": "code",
   "execution_count": 18,
   "id": "0e30b98b-45d7-4487-9356-ce1689e43c0b",
   "metadata": {},
   "outputs": [],
   "source": [
    "edam_export_df = pd.read_csv(edam_data_file)"
   ]
  },
  {
   "cell_type": "code",
   "execution_count": 19,
   "id": "3d89380b-3cd5-4e71-8b20-be6f997f053d",
   "metadata": {},
   "outputs": [],
   "source": [
    "item2pim1_image2 = set(edam_export_df\n",
    " .pipe(lambda _df: _df[_df['assetPath'].str.contains('Image-4', regex=False)])\n",
    " .pipe(lambda _df: _df.assign(**{'item2pim1': _df['edam:item-to-pim{{String: multi }}'].str.split('|')}))\n",
    " .pipe(lambda _df: _df['item2pim1']).tolist()[0]\n",
    ")"
   ]
  },
  {
   "cell_type": "code",
   "execution_count": 20,
   "id": "f49dbfa3-2850-42a9-872c-eee34f56552d",
   "metadata": {},
   "outputs": [
    {
     "data": {
      "text/plain": [
       "3"
      ]
     },
     "execution_count": 20,
     "metadata": {},
     "output_type": "execute_result"
    }
   ],
   "source": [
    "skus_to_remove_set = set(skus_to_remove)\n",
    "diffset = item2pim1_image2 - skus_to_remove_set\n",
    "intersect_set = item2pim1_image2.intersection(skus_to_remove_set)\n",
    "len(intersect_set)"
   ]
  },
  {
   "cell_type": "code",
   "execution_count": null,
   "id": "d807f54f-ce0c-432b-977a-115cd766746d",
   "metadata": {},
   "outputs": [],
   "source": []
  },
  {
   "cell_type": "code",
   "execution_count": 26,
   "id": "50674577-dafa-4eb6-87a6-ec21a0152ff2",
   "metadata": {},
   "outputs": [
    {
     "name": "stdout",
     "output_type": "stream",
     "text": [
      "We found 23 cells with SKUs to drop in 13 rows\n",
      "out of a total of 15 rows in the edam export file.\n"
     ]
    }
   ],
   "source": [
    "with (edam_data_file.open('r', encoding='utf-8') as f,\n",
    "    output_file.open('w', encoding='utf-8', newline='') as outf):\n",
    "    reader = csv.DictReader(f)\n",
    "    header = reader.fieldnames\n",
    "    writer = csv.DictWriter(outf, fieldnames=header, dialect='excel')\n",
    "    writer.writeheader()\n",
    "    # for field in header:\n",
    "    #     if 'item-to-pim' in field:\n",
    "    #         print(field)\n",
    "    cells_with_dropped_skus = 0\n",
    "    rows_with_cells_with_dropped_skus = 0\n",
    "    for edam_row_count, row in enumerate(reader, start=1):\n",
    "        skus_found_in_current_row = False\n",
    "        for column in cols_to_update:\n",
    "            original_skus = [\n",
    "                x.strip()\n",
    "                for x in row[column].split('|')\n",
    "            ]\n",
    "            updated_skus = [\n",
    "                x\n",
    "                for x in original_skus\n",
    "                if x not in skus_to_remove\n",
    "            ]\n",
    "            found_skus_to_drop = len(original_skus) - len(updated_skus) > 0\n",
    "            if found_skus_to_drop:\n",
    "                if not skus_found_in_current_row:\n",
    "                    skus_found_in_current_row = True\n",
    "                cells_with_dropped_skus += 1\n",
    "                row[column] = \"|\".join(updated_skus)\n",
    "        if skus_found_in_current_row:\n",
    "            rows_with_cells_with_dropped_skus += 1\n",
    "            writer.writerow(row)\n",
    "    print(f\"We found {cells_with_dropped_skus} cells with SKUs to drop in {rows_with_cells_with_dropped_skus} rows\\n\"\n",
    "          f\"out of a total of {edam_row_count} rows in the edam export file.\")"
   ]
  },
  {
   "cell_type": "code",
   "execution_count": 22,
   "id": "a1b6c21a-8a99-4e49-b5c6-1ead46e8ce0a",
   "metadata": {},
   "outputs": [],
   "source": [
    "output_df = pd.read_csv(output_file)"
   ]
  },
  {
   "cell_type": "code",
   "execution_count": 23,
   "id": "d3ddbee5-a0b4-45bf-bbd7-9a58a196b7a9",
   "metadata": {},
   "outputs": [
    {
     "data": {
      "text/html": [
       "<div>\n",
       "<style scoped>\n",
       "    .dataframe tbody tr th:only-of-type {\n",
       "        vertical-align: middle;\n",
       "    }\n",
       "\n",
       "    .dataframe tbody tr th {\n",
       "        vertical-align: top;\n",
       "    }\n",
       "\n",
       "    .dataframe thead th {\n",
       "        text-align: right;\n",
       "    }\n",
       "</style>\n",
       "<table border=\"1\" class=\"dataframe\">\n",
       "  <thead>\n",
       "    <tr style=\"text-align: right;\">\n",
       "      <th></th>\n",
       "      <th>assetPath</th>\n",
       "      <th>jcr:primaryType{{Name}}</th>\n",
       "      <th>jcr:mixinTypes{{Name: multi }}</th>\n",
       "      <th>edam:selectsbg{{String}}</th>\n",
       "      <th>dam:Physicalheightininches{{Double}}</th>\n",
       "      <th>edam:assetOwner{{String}}</th>\n",
       "      <th>edam:item-to-pim{{String: multi }}</th>\n",
       "      <th>dam:Physicalwidthininches{{Double}}</th>\n",
       "      <th>dam:Fileformat{{String}}</th>\n",
       "      <th>dam:Progressive{{String}}</th>\n",
       "      <th>...</th>\n",
       "      <th>predictedTags/abstract/jcr:lastModified{{Date: DateFormat: yyyy-MM-dd'T'HH:mm:ss.SSSXXX}}</th>\n",
       "      <th>predictedTags/internet/jcr:primaryType{{Name}}</th>\n",
       "      <th>predictedTags/internet/isCustom{{Boolean}}</th>\n",
       "      <th>predictedTags/internet/name{{String}}</th>\n",
       "      <th>predictedTags/internet/confidence{{Double}}</th>\n",
       "      <th>predictedTags/internet/jcr:lastModified{{Date: DateFormat: yyyy-MM-dd'T'HH:mm:ss.SSSXXX}}</th>\n",
       "      <th>imageFeatures/jcr:primaryType{{Name}}</th>\n",
       "      <th>imageFeatures/haystack0{{String}}</th>\n",
       "      <th>Iptc4xmpCore:CreatorContactInfo/jcr:primaryType{{Name}}</th>\n",
       "      <th>edam:docLanguage{{String: multi }}</th>\n",
       "    </tr>\n",
       "  </thead>\n",
       "  <tbody>\n",
       "    <tr>\n",
       "      <th>1</th>\n",
       "      <td>/content/dam/honeywell-edam/pmt/hps/products/l...</td>\n",
       "      <td>nt:unstructured</td>\n",
       "      <td>cq:Taggable</td>\n",
       "      <td>none</td>\n",
       "      <td>'-1.0</td>\n",
       "      <td>E302266</td>\n",
       "      <td>BRP900~LBE21802122|BRP900~LBE21802260|BRP900~L...</td>\n",
       "      <td>'-1.0</td>\n",
       "      <td>JPEG</td>\n",
       "      <td>no</td>\n",
       "      <td>...</td>\n",
       "      <td>2023-10-23T13:26:58.980Z</td>\n",
       "      <td>nt:unstructured</td>\n",
       "      <td>False</td>\n",
       "      <td>internet</td>\n",
       "      <td>0.571325</td>\n",
       "      <td>2023-10-23T13:26:58.981Z</td>\n",
       "      <td>nt:unstructured</td>\n",
       "      <td>?�f�@?��H ?��B�?�\u000e� ?�P�`?�Q�?�gN�@\u0007��`?��l�?�...</td>\n",
       "      <td>nt:unstructured</td>\n",
       "      <td>NaN</td>\n",
       "    </tr>\n",
       "  </tbody>\n",
       "</table>\n",
       "<p>1 rows × 196 columns</p>\n",
       "</div>"
      ],
      "text/plain": [
       "                                           assetPath jcr:primaryType{{Name}}  \\\n",
       "1  /content/dam/honeywell-edam/pmt/hps/products/l...         nt:unstructured   \n",
       "\n",
       "  jcr:mixinTypes{{Name: multi }} edam:selectsbg{{String}}  \\\n",
       "1                    cq:Taggable                     none   \n",
       "\n",
       "  dam:Physicalheightininches{{Double}} edam:assetOwner{{String}}  \\\n",
       "1                                '-1.0                   E302266   \n",
       "\n",
       "                  edam:item-to-pim{{String: multi }}  \\\n",
       "1  BRP900~LBE21802122|BRP900~LBE21802260|BRP900~L...   \n",
       "\n",
       "  dam:Physicalwidthininches{{Double}} dam:Fileformat{{String}}  \\\n",
       "1                               '-1.0                     JPEG   \n",
       "\n",
       "  dam:Progressive{{String}}  ...  \\\n",
       "1                        no  ...   \n",
       "\n",
       "   predictedTags/abstract/jcr:lastModified{{Date: DateFormat: yyyy-MM-dd'T'HH:mm:ss.SSSXXX}}  \\\n",
       "1                           2023-10-23T13:26:58.980Z                                           \n",
       "\n",
       "   predictedTags/internet/jcr:primaryType{{Name}}  \\\n",
       "1                                 nt:unstructured   \n",
       "\n",
       "   predictedTags/internet/isCustom{{Boolean}}  \\\n",
       "1                                       False   \n",
       "\n",
       "  predictedTags/internet/name{{String}}  \\\n",
       "1                              internet   \n",
       "\n",
       "  predictedTags/internet/confidence{{Double}}  \\\n",
       "1                                    0.571325   \n",
       "\n",
       "  predictedTags/internet/jcr:lastModified{{Date: DateFormat: yyyy-MM-dd'T'HH:mm:ss.SSSXXX}}  \\\n",
       "1                           2023-10-23T13:26:58.981Z                                          \n",
       "\n",
       "  imageFeatures/jcr:primaryType{{Name}}  \\\n",
       "1                       nt:unstructured   \n",
       "\n",
       "                   imageFeatures/haystack0{{String}}  \\\n",
       "1  ?�f�@?��H ?��B�?�\u000e� ?�P�`?�Q�?�gN�@\u0007��`?��l�?�...   \n",
       "\n",
       "  Iptc4xmpCore:CreatorContactInfo/jcr:primaryType{{Name}}  \\\n",
       "1                                    nt:unstructured        \n",
       "\n",
       "  edam:docLanguage{{String: multi }}  \n",
       "1                                NaN  \n",
       "\n",
       "[1 rows x 196 columns]"
      ]
     },
     "execution_count": 23,
     "metadata": {},
     "output_type": "execute_result"
    }
   ],
   "source": [
    "(output_df\n",
    " .pipe(lambda _df: _df[_df['assetPath'].str.contains('Image-2', regex=False)])\n",
    ")"
   ]
  },
  {
   "cell_type": "code",
   "execution_count": null,
   "id": "1e87bd95-209a-46d9-9aa6-e3e08051b4d1",
   "metadata": {},
   "outputs": [],
   "source": []
  },
  {
   "cell_type": "code",
   "execution_count": null,
   "id": "28d5520d-0584-4293-ae48-2b8559bd9f94",
   "metadata": {},
   "outputs": [],
   "source": []
  }
 ],
 "metadata": {
  "kernelspec": {
   "display_name": "Python 3 (ipykernel)",
   "language": "python",
   "name": "python3"
  },
  "language_info": {
   "codemirror_mode": {
    "name": "ipython",
    "version": 3
   },
   "file_extension": ".py",
   "mimetype": "text/x-python",
   "name": "python",
   "nbconvert_exporter": "python",
   "pygments_lexer": "ipython3",
   "version": "3.11.6"
  }
 },
 "nbformat": 4,
 "nbformat_minor": 5
}
